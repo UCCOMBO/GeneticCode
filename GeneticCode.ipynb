{
 "cells": [
  {
   "cell_type": "markdown",
   "metadata": {
    "id": "wyulD63SHvF5"
   },
   "source": [
    "# A Crash Course on Computer Programing"
   ]
  },
  {
   "cell_type": "markdown",
   "metadata": {
    "id": "D2dYvO4XIXBj"
   },
   "source": [
    "This will be a brief crash course in the basics of computer programming using a computer \"language\" called Python. Python is used every day to do real science.\n",
    "\n",
    "We're going to write our code today in this Google CoLab Notebook. This allows us to write python code on the internet, sort of like Google Docs.\n",
    "\n",
    "Computer code is very specific instructions for what the computer should do.\n",
    "In this notebook, each bit of code or instructions is inside of a \"cell.\" You can make the computer follow the instructions in a cell by pressing the \"Play\" button in the top-left corner. We call this \"running\" a cell.\n",
    "\n",
    "Getting instructions out of order can be very confusing for people, and it's the same for comptuers. If you run cells out of order the computer might get confused and not work right.\n",
    "\n",
    "What happens if you run the first cell below?"
   ]
  },
  {
   "cell_type": "code",
   "execution_count": null,
   "metadata": {
    "colab": {
     "base_uri": "https://localhost:8080/"
    },
    "executionInfo": {
     "elapsed": 7,
     "status": "ok",
     "timestamp": 1701114924131,
     "user": {
      "displayName": "Ethan Zhong",
      "userId": "00826129076389672674"
     },
     "user_tz": 360
    },
    "id": "9t24ig9NK3UI",
    "outputId": "bbdb3b93-f1da-4b50-897a-1494356a184e"
   },
   "outputs": [],
   "source": [
    "1 + 1"
   ]
  },
  {
   "cell_type": "markdown",
   "metadata": {
    "id": "YVIdd37UK98H"
   },
   "source": [
    "What about this cell?"
   ]
  },
  {
   "cell_type": "code",
   "execution_count": null,
   "metadata": {
    "colab": {
     "base_uri": "https://localhost:8080/"
    },
    "executionInfo": {
     "elapsed": 5,
     "status": "ok",
     "timestamp": 1701114926463,
     "user": {
      "displayName": "Ethan Zhong",
      "userId": "00826129076389672674"
     },
     "user_tz": 360
    },
    "id": "8onlP3nSKjCd",
    "outputId": "9a1f68a2-631e-4146-93a8-26fc1549c1df"
   },
   "outputs": [],
   "source": [
    "print(\"Hello! Let's crack some genetic Code!!!\")"
   ]
  },
  {
   "cell_type": "markdown",
   "metadata": {
    "id": "HzO4KYdKLVyQ"
   },
   "source": [
    "Just like how you have to follow very specific grammar rules when you write an essay in English class, you have to follow very specific rules when you write computer code. If you don't follow the grammar rules, the computer won't be able to read what you've written and follow your instructions.\n",
    "\n",
    "Each computer language has different rules.\n",
    "Today we are going to learn some of the rules of python.\n",
    "\n",
    "## Let's jump into it!"
   ]
  },
  {
   "cell_type": "markdown",
   "metadata": {
    "id": "SRuuShf6MPQb"
   },
   "source": [
    "## Arithmetic"
   ]
  },
  {
   "cell_type": "markdown",
   "metadata": {
    "id": "F0pnYGY7SatV"
   },
   "source": [
    "Computers are very good at doing arithmetic. We can do arithmetic using `+ -  * /`.\n",
    "\n",
    "What will happen when I run the following cells of code?"
   ]
  },
  {
   "cell_type": "code",
   "execution_count": null,
   "metadata": {
    "colab": {
     "base_uri": "https://localhost:8080/"
    },
    "executionInfo": {
     "elapsed": 152,
     "status": "ok",
     "timestamp": 1701114929496,
     "user": {
      "displayName": "Ethan Zhong",
      "userId": "00826129076389672674"
     },
     "user_tz": 360
    },
    "id": "lt_D-QiKSHzY",
    "outputId": "430ab62d-ae88-4749-df58-c189ad4d1de7"
   },
   "outputs": [],
   "source": [
    "4 * 5"
   ]
  },
  {
   "cell_type": "code",
   "execution_count": null,
   "metadata": {
    "colab": {
     "base_uri": "https://localhost:8080/"
    },
    "executionInfo": {
     "elapsed": 242,
     "status": "ok",
     "timestamp": 1701114931533,
     "user": {
      "displayName": "Ethan Zhong",
      "userId": "00826129076389672674"
     },
     "user_tz": 360
    },
    "id": "kGRzEcSQS35P",
    "outputId": "8d865988-1e20-4279-c1cb-0a2432226205"
   },
   "outputs": [],
   "source": [
    "6 / 3"
   ]
  },
  {
   "cell_type": "markdown",
   "metadata": {
    "id": "UKUykyjITc6c"
   },
   "source": [
    "## Strings"
   ]
  },
  {
   "cell_type": "markdown",
   "metadata": {
    "id": "GdLI9wsDTeUS"
   },
   "source": [
    "Some words, letters, or text surrounded by `\"\"` or `''` is called a **string**. Whenever we want to work with letters or words, we have to use strings."
   ]
  },
  {
   "cell_type": "code",
   "execution_count": null,
   "metadata": {
    "id": "BqoKphB-TcV3"
   },
   "outputs": [],
   "source": [
    "\"Hello World!\""
   ]
  },
  {
   "cell_type": "markdown",
   "metadata": {
    "id": "PMB_kgblUxja"
   },
   "source": [
    "**Your Turn:**  Can you make a string with your name in it?"
   ]
  },
  {
   "cell_type": "code",
   "execution_count": null,
   "metadata": {
    "id": "1PyJqLteUw-m"
   },
   "outputs": [],
   "source": [
    "####### YOUR CODE HERE #######"
   ]
  },
  {
   "cell_type": "markdown",
   "metadata": {
    "id": "96QHH59b3ccX"
   },
   "source": [
    "# Variables"
   ]
  },
  {
   "cell_type": "markdown",
   "metadata": {
    "id": "B6RHuZhd3dbt"
   },
   "source": [
    "**Variables** store information we want to use later. If we write a word *without* `\"\"` or `''` around it, the computer thinks that's a variable.\n",
    "\n",
    "We put information into variables using `=`."
   ]
  },
  {
   "cell_type": "code",
   "execution_count": null,
   "metadata": {
    "id": "FtlCcp3Q33kG"
   },
   "outputs": [],
   "source": [
    "todays_date = \"March 25, 2023\""
   ]
  },
  {
   "cell_type": "markdown",
   "metadata": {
    "id": "XMP3oRS6392b"
   },
   "source": [
    "In the next cell, the computer still has the string `March 25, 2023` stored inside of the variable `todays_date`."
   ]
  },
  {
   "cell_type": "code",
   "execution_count": null,
   "metadata": {
    "id": "YDLuuE_P39Kn"
   },
   "outputs": [],
   "source": [
    "todays_date"
   ]
  },
  {
   "cell_type": "markdown",
   "metadata": {
    "id": "3sKyi908MpqH"
   },
   "source": [
    "## Lists & Indexing"
   ]
  },
  {
   "cell_type": "markdown",
   "metadata": {
    "id": "um77O76Ua7v-"
   },
   "source": [
    "Sometimes we want to store a bunch of information together. We can do that using a list. We make a list using `[ ]` and putting the values we want to store in between, separted by commas. For example..."
   ]
  },
  {
   "cell_type": "code",
   "execution_count": null,
   "metadata": {
    "id": "7OLqAWJbhLLW"
   },
   "outputs": [],
   "source": [
    "colors = [\"red\",\"orange\",\"yellow\",\"green\",\"blue\",\"purple\"]\n",
    "colors"
   ]
  },
  {
   "cell_type": "markdown",
   "metadata": {
    "id": "lwgLXUDneOW1"
   },
   "source": [
    "We've seen how to put values *into* a list. But what if we want to get a value back *out* of the list?\n",
    "\n",
    "Each value in a list lives at an address called an **index**. To get the value that lives at index `i`, we use square brackets like this: `my_list[i]`.\n",
    "\n",
    "One complication is that the indices start at 0. That means that we use `[0]` to get the first value in the array, `[1]` to get the second value, etc.\n",
    "\n",
    "For example, to print the first color in the `colors` list, we would use..."
   ]
  },
  {
   "cell_type": "code",
   "execution_count": null,
   "metadata": {
    "id": "y9zFk6bUeN_m"
   },
   "outputs": [],
   "source": [
    "print(colors[0])"
   ]
  },
  {
   "cell_type": "markdown",
   "metadata": {
    "id": "vbbTQaXuvOpW"
   },
   "source": [
    "Often we'd like to use the computer to do the similar tasks over and over. We can do this using a loop. The next cell shows how we can use a `for` loop to print out the color at each index in the list."
   ]
  },
  {
   "cell_type": "code",
   "execution_count": null,
   "metadata": {
    "id": "u0YVOOGztolk"
   },
   "outputs": [],
   "source": [
    "for i in [0,1,2,3,4,5]:\n",
    "  print(colors[i],\"is at index\",i)"
   ]
  },
  {
   "cell_type": "markdown",
   "metadata": {
    "id": "BYOUSw3Lg2bQ"
   },
   "source": [
    "**Your turn:** Can you use indexing to print out your favorite color from the list `colors`?"
   ]
  },
  {
   "cell_type": "code",
   "execution_count": null,
   "metadata": {
    "id": "yyWa4pBWhhhN"
   },
   "outputs": [],
   "source": [
    "####### YOUR CODE HERE #######\n",
    "print(\"My favorite color is\", colors[])"
   ]
  },
  {
   "cell_type": "markdown",
   "metadata": {
    "id": "P3Msqk1-Hp3O"
   },
   "source": [
    "# Decoding DNA!"
   ]
  },
  {
   "cell_type": "markdown",
   "metadata": {
    "id": "3U446qRYGuhE"
   },
   "source": [
    "Code in this next cell will load the codon table and some helper functions for the rest of this activity."
   ]
  },
  {
   "cell_type": "code",
   "execution_count": null,
   "metadata": {
    "colab": {
     "base_uri": "https://localhost:8080/"
    },
    "executionInfo": {
     "elapsed": 9907,
     "status": "ok",
     "timestamp": 1701113578927,
     "user": {
      "displayName": "Margaret Steiner",
      "userId": "04221215731116680805"
     },
     "user_tz": 360
    },
    "id": "GW1zBKi6Ch3e",
    "outputId": "34e33c54-88c1-4ae4-8365-5a43ce1e07bb"
   },
   "outputs": [],
   "source": [
    "%run geneticcode.py"
   ]
  },
  {
   "cell_type": "code",
   "execution_count": null,
   "metadata": {
    "colab": {
     "base_uri": "https://localhost:8080/",
     "height": 424
    },
    "executionInfo": {
     "elapsed": 133,
     "status": "ok",
     "timestamp": 1701113581981,
     "user": {
      "displayName": "Margaret Steiner",
      "userId": "04221215731116680805"
     },
     "user_tz": 360
    },
    "id": "QrKyxs-7Inx6",
    "outputId": "a87702c1-0404-4d8b-e2e9-814933134a13"
   },
   "outputs": [],
   "source": [
    "codon_table"
   ]
  },
  {
   "cell_type": "markdown",
   "metadata": {
    "id": "LiTirFNFxyyy"
   },
   "source": [
    "Next, we'll add colors to amino acids in the table, and make it look really nice."
   ]
  },
  {
   "cell_type": "code",
   "execution_count": null,
   "metadata": {
    "colab": {
     "base_uri": "https://localhost:8080/",
     "height": 790
    },
    "executionInfo": {
     "elapsed": 1482,
     "status": "ok",
     "timestamp": 1701113585759,
     "user": {
      "displayName": "Margaret Steiner",
      "userId": "04221215731116680805"
     },
     "user_tz": 360
    },
    "id": "cMmWIY-x1Mpc",
    "outputId": "d128ea27-2f56-418c-d8bc-26b855aed8f2"
   },
   "outputs": [],
   "source": [
    "#show the chart\n",
    "show_codon_table(codon_table)"
   ]
  },
  {
   "cell_type": "markdown",
   "metadata": {
    "id": "DFDy5ly-WFf4"
   },
   "source": [
    "This next cell converts the table into a form the computer can use to look up information stored in the table. We can use the index the `Lookup_Codon` using a codon string like `ATC` to find the name and one letter code of that amino acid."
   ]
  },
  {
   "cell_type": "code",
   "execution_count": null,
   "metadata": {
    "colab": {
     "base_uri": "https://localhost:8080/"
    },
    "executionInfo": {
     "elapsed": 229,
     "status": "ok",
     "timestamp": 1701113588877,
     "user": {
      "displayName": "Margaret Steiner",
      "userId": "04221215731116680805"
     },
     "user_tz": 360
    },
    "id": "XYzTypRayHp7",
    "outputId": "146d05b2-b429-4a57-8102-7a979b4f114c"
   },
   "outputs": [],
   "source": [
    "Lookup_Codon = {codon_table.index[i]: list(codon_table.iloc[i,:]) for i in range(len(codon_table.index))}\n",
    "\n",
    "## each item in this dictionary is structured as\n",
    "## <triplet>: [aa_name, aa_abbr, aa_color]\n",
    "## so, to get the full name, letter, and color for a particular codon, let's say ATC:\n",
    "amino_acid_name, amino_acid_abbr, amino_acid_color = Lookup_Codon['ATC']\n",
    "# check it out:\n",
    "print(f'The codon ATC encodes amino acid {amino_acid_name}, abbreviated as {amino_acid_abbr}, and is assigned the color {amino_acid_color}.')"
   ]
  },
  {
   "cell_type": "markdown",
   "metadata": {
    "id": "OER4ZeTcH7_Y"
   },
   "source": [
    "Now, let's go back to the sequence that codes for part of the Green Fluorescent Protein.\n",
    "\n",
    "`GAAAACATGGAGAACGATGAAAATATTGTGTATGGT`\n",
    "\n",
    "You just made an awesome bracelet of the amino acids that this sequence codes for. Want to see how much faster the computer can decode this DNA?"
   ]
  },
  {
   "cell_type": "markdown",
   "metadata": {
    "id": "n08oRYcdyCRh"
   },
   "source": [
    "Code we want to use over and over with slightly different inputs can be put inside of a **function**. To use functions, we put the name of the function followed by parentheses with the inputs inside of them like this:\n",
    "```\n",
    "my_function(inputs)\n",
    "```\n",
    "\n",
    "In the `geneticcode.py` script we loaded earlier, there is a function to turn strings of DNA into strigns of amino acids. Below is the function working on the DNA that codes for luciferace."
   ]
  },
  {
   "cell_type": "code",
   "execution_count": null,
   "metadata": {
    "colab": {
     "base_uri": "https://localhost:8080/"
    },
    "executionInfo": {
     "elapsed": 259,
     "status": "ok",
     "timestamp": 1701113594054,
     "user": {
      "displayName": "Margaret Steiner",
      "userId": "04221215731116680805"
     },
     "user_tz": 360
    },
    "id": "mOPRliuYgdbw",
    "outputId": "25b307bb-c9f5-48d2-eae6-745631668e98"
   },
   "outputs": [],
   "source": [
    "decode_sequence(\"GAAAACATGGAGAACGATGAAAATATTGTGTATGGT\")"
   ]
  },
  {
   "cell_type": "markdown",
   "metadata": {
    "id": "7LOdvtt_HZdg"
   },
   "source": [
    "You can time how long it takes to decode the sequence using `%time`"
   ]
  },
  {
   "cell_type": "code",
   "execution_count": null,
   "metadata": {
    "colab": {
     "base_uri": "https://localhost:8080/"
    },
    "executionInfo": {
     "elapsed": 111,
     "status": "ok",
     "timestamp": 1701113597253,
     "user": {
      "displayName": "Margaret Steiner",
      "userId": "04221215731116680805"
     },
     "user_tz": 360
    },
    "id": "MgFYXkxzHWkM",
    "outputId": "3821170a-c694-4ded-cb48-9390c9e4730b"
   },
   "outputs": [],
   "source": [
    "%time decode_sequence(\"GAAAACATGGAGAACGATGAAAATATTGTGTATGGT\")"
   ]
  },
  {
   "cell_type": "markdown",
   "metadata": {
    "id": "oM-FwoS481nN"
   },
   "source": [
    "That's really fast! But of course, it didn't have to physically craft anything like you did."
   ]
  },
  {
   "cell_type": "markdown",
   "metadata": {
    "id": "IEq1wzXIROfM"
   },
   "source": [
    "This next function won't make a bracelet, but it will make a picture of the chain of amino acids using the same colors as before. That's sort of close, right? This function is called `make_picture()`."
   ]
  },
  {
   "cell_type": "code",
   "execution_count": null,
   "metadata": {
    "colab": {
     "base_uri": "https://localhost:8080/",
     "height": 114
    },
    "executionInfo": {
     "elapsed": 428,
     "status": "ok",
     "timestamp": 1701113600844,
     "user": {
      "displayName": "Margaret Steiner",
      "userId": "04221215731116680805"
     },
     "user_tz": 360
    },
    "id": "TbJrqSHRFqZs",
    "outputId": "7bfd45cd-d153-4d69-f189-37b2cc78a319"
   },
   "outputs": [],
   "source": [
    "make_picture(\"GAAAACATGGAGAACGATGAAAATATTGTGTATGGT\")"
   ]
  },
  {
   "cell_type": "markdown",
   "metadata": {
    "id": "q0QBmcWPYO1X"
   },
   "source": [
    "**Challenge question:** What happens to the chain of amino acids if we change a few base-pairs in the sequence? Try removing, adding or changing letters in the input sequence and seeing what happens! Remember, every letter in the input sequence must be either `G`,`C`,`A` or `T`."
   ]
  },
  {
   "cell_type": "code",
   "execution_count": null,
   "metadata": {
    "colab": {
     "base_uri": "https://localhost:8080/",
     "height": 114
    },
    "executionInfo": {
     "elapsed": 361,
     "status": "ok",
     "timestamp": 1701113907267,
     "user": {
      "displayName": "Margaret Steiner",
      "userId": "04221215731116680805"
     },
     "user_tz": 360
    },
    "id": "mR2P0_-paIP2",
    "outputId": "62d11fa7-0939-49d5-cc9b-492891f48e6b"
   },
   "outputs": [],
   "source": [
    "make_picture(\"GAAAACATGGAGCACTGAAAGTAATATAATGTTGTGTGTACACAC\")"
   ]
  }
 ],
 "metadata": {
  "colab": {
   "provenance": [
    {
     "file_id": "1S3YiTLPxjZr0ASodGWdnGin_OqFDJOWT",
     "timestamp": 1679158664461
    },
    {
     "file_id": "1gjPGBdhgOb-H7woLtISFQ0PyzWxk9-uX",
     "timestamp": 1668621757430
    },
    {
     "file_id": "https://github.com/suzannastep/compbio-tutorial/blob/master/S3F/GeneticCode.ipynb",
     "timestamp": 1663281160635
    }
   ]
  },
  "kernelspec": {
   "display_name": "Python 3",
   "name": "python3"
  },
  "language_info": {
   "name": "python"
  }
 },
 "nbformat": 4,
 "nbformat_minor": 0
}
